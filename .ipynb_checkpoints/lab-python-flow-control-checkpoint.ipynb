{
 "cells": [
  {
   "cell_type": "markdown",
   "id": "d3bfc191-8885-42ee-b0a0-bbab867c6f9f",
   "metadata": {
    "tags": []
   },
   "source": [
    "# Lab | Flow Control"
   ]
  },
  {
   "cell_type": "markdown",
   "id": "3851fcd1-cf98-4653-9c89-e003b7ec9400",
   "metadata": {},
   "source": [
    "## Exercise: Managing Customer Orders Optimized\n",
    "\n",
    "In the last lab, you were starting an online store that sells various products. To ensure smooth operations, you developed a program that manages customer orders and inventory.\n",
    "\n",
    "You did so without using flow control. Let's go a step further and improve this code.\n",
    "\n",
    "Follow the steps below to complete the exercise:\n",
    "\n",
    "1. Look at your code from the lab data structures, and improve repeated code with loops.\n",
    "\n",
    "2. Instead of asking the user to input the name of three products that a customer wants to order, do the following:\n",
    "    \n",
    "    a. Prompt the user to enter the name of a product that a customer wants to order.\n",
    "    \n",
    "    b. Add the product name to the \"customer_orders\" set.\n",
    "    \n",
    "    c. Ask the user if they want to add another product (yes/no).\n",
    "    \n",
    "    d. Continue the loop until the user does not want to add another product.\n",
    "\n",
    "3. Instead of updating the inventory by subtracting 1 from the quantity of each product, only do it for  the products that were ordered (those in \"customer_orders\")."
   ]
  },
  {
   "cell_type": "code",
   "execution_count": 2,
   "id": "8c4e3da8",
   "metadata": {},
   "outputs": [
    {
     "name": "stdout",
     "output_type": "stream",
     "text": [
      "Enter the quantity of t-shirts available in the inventory: 8\n",
      "Enter the quantity of mugs available in the inventory: 6\n",
      "Enter the quantity of hats available in the inventory: 4\n",
      "Enter the quantity of books available in the inventory: 8\n",
      "Enter the quantity of keychains available in the inventory: 5\n",
      "Inventory: {'t-shirt': 8, 'mug': 6, 'hat': 4, 'book': 8, 'keychain': 5}\n",
      "Enter the name of product in order: mug\n",
      "Do you wish to enter another product? (Yes/no):Yes\n",
      "Enter the name of product in order: book\n",
      "Do you wish to enter another product? (Yes/no):no\n",
      "Customer orders: {'book', 'mug'}\n",
      "\n",
      " Order Statistics: \n",
      "Total Products Ordered: 2\n",
      "Percentage of Products Ordered: 40.00%\n",
      "\n",
      " Updated Inventory:\n",
      "Product: t-shirt\n",
      "Quantity: 8\n",
      "Product: mug\n",
      "Quantity: 5\n",
      "Product: hat\n",
      "Quantity: 4\n",
      "Product: book\n",
      "Quantity: 7\n",
      "Product: keychain\n",
      "Quantity: 5\n"
     ]
    }
   ],
   "source": [
    "products = ['t-shirt', 'mug', 'hat', 'book', 'keychain']\n",
    "inventory = {}\n",
    "\n",
    "\n",
    "for product in products:\n",
    "    quantity = int(input(f\"Enter the quantity of {product}s available in the inventory: \"))\n",
    "    inventory[product] = quantity\n",
    "\n",
    "print(\"Inventory:\", inventory)\n",
    "\n",
    "customer_orders = set()\n",
    "x = True\n",
    "\n",
    "while x == True:\n",
    "    product = input(f\"Enter the name of product in order: \").strip().lower()\n",
    "    if product in products:\n",
    "        customer_orders.add(product)\n",
    "        \n",
    "    else:\n",
    "        print(\"Invalid product name. Please enter a valid product.\")\n",
    "        \n",
    "    user_choice = input(f\"Do you wish to enter another product? (Yes/No):\").strip().lower()\n",
    "    \n",
    "    if user_choice == 'yes':\n",
    "        x = True\n",
    "    else:\n",
    "        x = False\n",
    "        \n",
    "print(\"Customer orders:\", customer_orders)\n",
    "    \n",
    "    \n",
    "total_products_ordered = len(customer_orders)\n",
    "percentage_of_products_ordered = (len(customer_orders) / len(products)) * 100\n",
    "order_status = (total_products_ordered, percentage_of_products_ordered)\n",
    "\n",
    "\n",
    "print(\"\\n Order Statistics: \")\n",
    "print(f\"Total Products Ordered: {total_products_ordered}\")\n",
    "print(f\"Percentage of Products Ordered: {percentage_of_products_ordered:.2f}%\") \n",
    "\n",
    "\n",
    "for product in customer_orders:\n",
    "        inventory[product] -= 1\n",
    "        \n",
    "\n",
    "print(\"\\n Updated Inventory:\")\n",
    "\n",
    "for product, quantity in inventory.items():\n",
    "    print(f\"Product: {product}\")\n",
    "    print(f\"Quantity: {quantity}\")"
   ]
  }
 ],
 "metadata": {
  "kernelspec": {
   "display_name": "Python 3 (ipykernel)",
   "language": "python",
   "name": "python3"
  },
  "language_info": {
   "codemirror_mode": {
    "name": "ipython",
    "version": 3
   },
   "file_extension": ".py",
   "mimetype": "text/x-python",
   "name": "python",
   "nbconvert_exporter": "python",
   "pygments_lexer": "ipython3",
   "version": "3.11.5"
  }
 },
 "nbformat": 4,
 "nbformat_minor": 5
}
